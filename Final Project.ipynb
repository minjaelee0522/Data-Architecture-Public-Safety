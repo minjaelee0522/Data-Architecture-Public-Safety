{
 "cells": [
  {
   "cell_type": "markdown",
   "id": "93b13bc0",
   "metadata": {},
   "source": [
    "## Exploring Datasets"
   ]
  },
  {
   "cell_type": "code",
   "execution_count": null,
   "id": "7c706d61",
   "metadata": {},
   "outputs": [],
   "source": [
    "import pandas as pd\n",
    "\n",
    "# Specify the file paths\n",
    "\n",
    "file_path1 = r\"C:\\Users\\surka\\Downloads\\Final Project datasets\\Traffic_Tickets_Issued__Four_Year_Window.csv\"\n",
    "file_path2 = r\"C:\\Users\\surka\\Downloads\\Final Project datasets\\Motor_Vehicle_Crashes_-_Violation_Information__Three_Year_Window.csv\"\n",
    "file_path3 = r\"C:\\Users\\surka\\Downloads\\Final Project datasets\\Motor_Vehicle_Crashes_-_Vehicle_Information__Three_Year_Window.csv\"\n",
    "file_path4 = r\"C:\\Users\\surka\\Downloads\\Final Project datasets\\Motor_Vehicle_Crashes_-_Individual_Information__Three_Year_Window.csv\"\n",
    "\n",
    "# Load CSV files into DataFrame\n",
    "\n",
    "df1 = pd.read_csv(file_path1)\n",
    "df2 = pd.read_csv(file_path2)\n",
    "df3 = pd.read_csv(file_path3)\n",
    "df4 = pd.read_csv(file_path4)"
   ]
  },
  {
   "cell_type": "code",
   "execution_count": null,
   "id": "2d0f5aa0",
   "metadata": {},
   "outputs": [],
   "source": []
  }
 ],
 "metadata": {
  "kernelspec": {
   "display_name": "Python 3 (ipykernel)",
   "language": "python",
   "name": "python3"
  },
  "language_info": {
   "codemirror_mode": {
    "name": "ipython",
    "version": 3
   },
   "file_extension": ".py",
   "mimetype": "text/x-python",
   "name": "python",
   "nbconvert_exporter": "python",
   "pygments_lexer": "ipython3",
   "version": "3.9.7"
  }
 },
 "nbformat": 4,
 "nbformat_minor": 5
}
